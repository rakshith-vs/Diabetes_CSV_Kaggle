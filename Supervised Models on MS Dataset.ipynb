{
 "cells": [
  {
   "cell_type": "code",
   "execution_count": 79,
   "metadata": {},
   "outputs": [],
   "source": [
    "import pandas as pd\n",
    "\n",
    "import numpy as np\n",
    "\n",
    "import matplotlib.pyplot as plt\n",
    "\n",
    "import warnings\n",
    "\n",
    "warnings.filterwarnings('ignore')"
   ]
  },
  {
   "cell_type": "code",
   "execution_count": 80,
   "metadata": {},
   "outputs": [
    {
     "data": {
      "text/html": [
       "<div>\n",
       "<style scoped>\n",
       "    .dataframe tbody tr th:only-of-type {\n",
       "        vertical-align: middle;\n",
       "    }\n",
       "\n",
       "    .dataframe tbody tr th {\n",
       "        vertical-align: top;\n",
       "    }\n",
       "\n",
       "    .dataframe thead th {\n",
       "        text-align: right;\n",
       "    }\n",
       "</style>\n",
       "<table border=\"1\" class=\"dataframe\">\n",
       "  <thead>\n",
       "    <tr style=\"text-align: right;\">\n",
       "      <th></th>\n",
       "      <th>MachineIdentifier</th>\n",
       "      <th>ProductName</th>\n",
       "      <th>EngineVersion</th>\n",
       "      <th>AppVersion</th>\n",
       "      <th>AvSigVersion</th>\n",
       "      <th>IsBeta</th>\n",
       "      <th>RtpStateBitfield</th>\n",
       "      <th>IsSxsPassiveMode</th>\n",
       "      <th>DefaultBrowsersIdentifier</th>\n",
       "      <th>AVProductStatesIdentifier</th>\n",
       "      <th>...</th>\n",
       "      <th>Census_FirmwareVersionIdentifier</th>\n",
       "      <th>Census_IsSecureBootEnabled</th>\n",
       "      <th>Census_IsWIMBootEnabled</th>\n",
       "      <th>Census_IsVirtualDevice</th>\n",
       "      <th>Census_IsTouchEnabled</th>\n",
       "      <th>Census_IsPenCapable</th>\n",
       "      <th>Census_IsAlwaysOnAlwaysConnectedCapable</th>\n",
       "      <th>Wdft_IsGamer</th>\n",
       "      <th>Wdft_RegionIdentifier</th>\n",
       "      <th>HasDetections</th>\n",
       "    </tr>\n",
       "  </thead>\n",
       "  <tbody>\n",
       "    <tr>\n",
       "      <th>0</th>\n",
       "      <td>0000028988387b115f69f31a3bf04f09</td>\n",
       "      <td>win8defender</td>\n",
       "      <td>1.1.15100.1</td>\n",
       "      <td>4.18.1807.18075</td>\n",
       "      <td>1.273.1735.0</td>\n",
       "      <td>0</td>\n",
       "      <td>7.0</td>\n",
       "      <td>0</td>\n",
       "      <td>NaN</td>\n",
       "      <td>53447.0</td>\n",
       "      <td>...</td>\n",
       "      <td>36144.0</td>\n",
       "      <td>0</td>\n",
       "      <td>NaN</td>\n",
       "      <td>0.0</td>\n",
       "      <td>0</td>\n",
       "      <td>0</td>\n",
       "      <td>0.0</td>\n",
       "      <td>0.0</td>\n",
       "      <td>10.0</td>\n",
       "      <td>0</td>\n",
       "    </tr>\n",
       "    <tr>\n",
       "      <th>1</th>\n",
       "      <td>000007535c3f730efa9ea0b7ef1bd645</td>\n",
       "      <td>win8defender</td>\n",
       "      <td>1.1.14600.4</td>\n",
       "      <td>4.13.17134.1</td>\n",
       "      <td>1.263.48.0</td>\n",
       "      <td>0</td>\n",
       "      <td>7.0</td>\n",
       "      <td>0</td>\n",
       "      <td>NaN</td>\n",
       "      <td>53447.0</td>\n",
       "      <td>...</td>\n",
       "      <td>57858.0</td>\n",
       "      <td>0</td>\n",
       "      <td>NaN</td>\n",
       "      <td>0.0</td>\n",
       "      <td>0</td>\n",
       "      <td>0</td>\n",
       "      <td>0.0</td>\n",
       "      <td>0.0</td>\n",
       "      <td>8.0</td>\n",
       "      <td>0</td>\n",
       "    </tr>\n",
       "    <tr>\n",
       "      <th>2</th>\n",
       "      <td>000007905a28d863f6d0d597892cd692</td>\n",
       "      <td>win8defender</td>\n",
       "      <td>1.1.15100.1</td>\n",
       "      <td>4.18.1807.18075</td>\n",
       "      <td>1.273.1341.0</td>\n",
       "      <td>0</td>\n",
       "      <td>7.0</td>\n",
       "      <td>0</td>\n",
       "      <td>NaN</td>\n",
       "      <td>53447.0</td>\n",
       "      <td>...</td>\n",
       "      <td>52682.0</td>\n",
       "      <td>0</td>\n",
       "      <td>NaN</td>\n",
       "      <td>0.0</td>\n",
       "      <td>0</td>\n",
       "      <td>0</td>\n",
       "      <td>0.0</td>\n",
       "      <td>0.0</td>\n",
       "      <td>3.0</td>\n",
       "      <td>0</td>\n",
       "    </tr>\n",
       "    <tr>\n",
       "      <th>3</th>\n",
       "      <td>00000b11598a75ea8ba1beea8459149f</td>\n",
       "      <td>win8defender</td>\n",
       "      <td>1.1.15100.1</td>\n",
       "      <td>4.18.1807.18075</td>\n",
       "      <td>1.273.1527.0</td>\n",
       "      <td>0</td>\n",
       "      <td>7.0</td>\n",
       "      <td>0</td>\n",
       "      <td>NaN</td>\n",
       "      <td>53447.0</td>\n",
       "      <td>...</td>\n",
       "      <td>20050.0</td>\n",
       "      <td>0</td>\n",
       "      <td>NaN</td>\n",
       "      <td>0.0</td>\n",
       "      <td>0</td>\n",
       "      <td>0</td>\n",
       "      <td>0.0</td>\n",
       "      <td>0.0</td>\n",
       "      <td>3.0</td>\n",
       "      <td>1</td>\n",
       "    </tr>\n",
       "    <tr>\n",
       "      <th>4</th>\n",
       "      <td>000014a5f00daa18e76b81417eeb99fc</td>\n",
       "      <td>win8defender</td>\n",
       "      <td>1.1.15100.1</td>\n",
       "      <td>4.18.1807.18075</td>\n",
       "      <td>1.273.1379.0</td>\n",
       "      <td>0</td>\n",
       "      <td>7.0</td>\n",
       "      <td>0</td>\n",
       "      <td>NaN</td>\n",
       "      <td>53447.0</td>\n",
       "      <td>...</td>\n",
       "      <td>19844.0</td>\n",
       "      <td>0</td>\n",
       "      <td>0.0</td>\n",
       "      <td>0.0</td>\n",
       "      <td>0</td>\n",
       "      <td>0</td>\n",
       "      <td>0.0</td>\n",
       "      <td>0.0</td>\n",
       "      <td>1.0</td>\n",
       "      <td>1</td>\n",
       "    </tr>\n",
       "    <tr>\n",
       "      <th>...</th>\n",
       "      <td>...</td>\n",
       "      <td>...</td>\n",
       "      <td>...</td>\n",
       "      <td>...</td>\n",
       "      <td>...</td>\n",
       "      <td>...</td>\n",
       "      <td>...</td>\n",
       "      <td>...</td>\n",
       "      <td>...</td>\n",
       "      <td>...</td>\n",
       "      <td>...</td>\n",
       "      <td>...</td>\n",
       "      <td>...</td>\n",
       "      <td>...</td>\n",
       "      <td>...</td>\n",
       "      <td>...</td>\n",
       "      <td>...</td>\n",
       "      <td>...</td>\n",
       "      <td>...</td>\n",
       "      <td>...</td>\n",
       "      <td>...</td>\n",
       "    </tr>\n",
       "    <tr>\n",
       "      <th>56751</th>\n",
       "      <td>01a3aaeba82aa3de04506d45fe2f8293</td>\n",
       "      <td>win8defender</td>\n",
       "      <td>1.1.15100.1</td>\n",
       "      <td>4.18.1807.18075</td>\n",
       "      <td>1.273.1056.0</td>\n",
       "      <td>0</td>\n",
       "      <td>7.0</td>\n",
       "      <td>0</td>\n",
       "      <td>NaN</td>\n",
       "      <td>53447.0</td>\n",
       "      <td>...</td>\n",
       "      <td>63568.0</td>\n",
       "      <td>1</td>\n",
       "      <td>NaN</td>\n",
       "      <td>0.0</td>\n",
       "      <td>0</td>\n",
       "      <td>0</td>\n",
       "      <td>0.0</td>\n",
       "      <td>1.0</td>\n",
       "      <td>3.0</td>\n",
       "      <td>0</td>\n",
       "    </tr>\n",
       "    <tr>\n",
       "      <th>56752</th>\n",
       "      <td>01a3aef1a1af51ef3e4aa0a1c99bf8b6</td>\n",
       "      <td>win8defender</td>\n",
       "      <td>1.1.15100.1</td>\n",
       "      <td>4.18.1807.18075</td>\n",
       "      <td>1.273.689.0</td>\n",
       "      <td>0</td>\n",
       "      <td>7.0</td>\n",
       "      <td>0</td>\n",
       "      <td>NaN</td>\n",
       "      <td>41571.0</td>\n",
       "      <td>...</td>\n",
       "      <td>33211.0</td>\n",
       "      <td>1</td>\n",
       "      <td>0.0</td>\n",
       "      <td>0.0</td>\n",
       "      <td>0</td>\n",
       "      <td>0</td>\n",
       "      <td>0.0</td>\n",
       "      <td>1.0</td>\n",
       "      <td>1.0</td>\n",
       "      <td>1</td>\n",
       "    </tr>\n",
       "    <tr>\n",
       "      <th>56753</th>\n",
       "      <td>01a3af52c05b6af7d971d5f3092c3a80</td>\n",
       "      <td>win8defender</td>\n",
       "      <td>1.1.15200.1</td>\n",
       "      <td>4.18.1807.18075</td>\n",
       "      <td>1.275.1454.0</td>\n",
       "      <td>0</td>\n",
       "      <td>7.0</td>\n",
       "      <td>0</td>\n",
       "      <td>NaN</td>\n",
       "      <td>53447.0</td>\n",
       "      <td>...</td>\n",
       "      <td>44032.0</td>\n",
       "      <td>0</td>\n",
       "      <td>NaN</td>\n",
       "      <td>0.0</td>\n",
       "      <td>0</td>\n",
       "      <td>0</td>\n",
       "      <td>0.0</td>\n",
       "      <td>1.0</td>\n",
       "      <td>11.0</td>\n",
       "      <td>0</td>\n",
       "    </tr>\n",
       "    <tr>\n",
       "      <th>56754</th>\n",
       "      <td>01a3b0c12114367eb99eaa2fac6b754c</td>\n",
       "      <td>win8defender</td>\n",
       "      <td>1.1.15100.1</td>\n",
       "      <td>4.18.1807.18075</td>\n",
       "      <td>1.273.1527.0</td>\n",
       "      <td>0</td>\n",
       "      <td>7.0</td>\n",
       "      <td>0</td>\n",
       "      <td>NaN</td>\n",
       "      <td>43856.0</td>\n",
       "      <td>...</td>\n",
       "      <td>60903.0</td>\n",
       "      <td>0</td>\n",
       "      <td>0.0</td>\n",
       "      <td>0.0</td>\n",
       "      <td>0</td>\n",
       "      <td>0</td>\n",
       "      <td>0.0</td>\n",
       "      <td>0.0</td>\n",
       "      <td>8.0</td>\n",
       "      <td>1</td>\n",
       "    </tr>\n",
       "    <tr>\n",
       "      <th>56755</th>\n",
       "      <td>01a3b14d2c2d4f1bc85204d10713884d</td>\n",
       "      <td>win8defender</td>\n",
       "      <td>1.1.15200.1</td>\n",
       "      <td>4.18.1807.18075</td>\n",
       "      <td>1.275.1573.0</td>\n",
       "      <td>0</td>\n",
       "      <td>7.0</td>\n",
       "      <td>0</td>\n",
       "      <td>NaN</td>\n",
       "      <td>53447.0</td>\n",
       "      <td>...</td>\n",
       "      <td>63370.0</td>\n",
       "      <td>0</td>\n",
       "      <td>0.0</td>\n",
       "      <td>0.0</td>\n",
       "      <td>0</td>\n",
       "      <td>0</td>\n",
       "      <td>0.0</td>\n",
       "      <td>1.0</td>\n",
       "      <td>15.0</td>\n",
       "      <td>1</td>\n",
       "    </tr>\n",
       "  </tbody>\n",
       "</table>\n",
       "<p>56756 rows × 83 columns</p>\n",
       "</div>"
      ],
      "text/plain": [
       "                      MachineIdentifier   ProductName EngineVersion  \\\n",
       "0      0000028988387b115f69f31a3bf04f09  win8defender   1.1.15100.1   \n",
       "1      000007535c3f730efa9ea0b7ef1bd645  win8defender   1.1.14600.4   \n",
       "2      000007905a28d863f6d0d597892cd692  win8defender   1.1.15100.1   \n",
       "3      00000b11598a75ea8ba1beea8459149f  win8defender   1.1.15100.1   \n",
       "4      000014a5f00daa18e76b81417eeb99fc  win8defender   1.1.15100.1   \n",
       "...                                 ...           ...           ...   \n",
       "56751  01a3aaeba82aa3de04506d45fe2f8293  win8defender   1.1.15100.1   \n",
       "56752  01a3aef1a1af51ef3e4aa0a1c99bf8b6  win8defender   1.1.15100.1   \n",
       "56753  01a3af52c05b6af7d971d5f3092c3a80  win8defender   1.1.15200.1   \n",
       "56754  01a3b0c12114367eb99eaa2fac6b754c  win8defender   1.1.15100.1   \n",
       "56755  01a3b14d2c2d4f1bc85204d10713884d  win8defender   1.1.15200.1   \n",
       "\n",
       "            AppVersion  AvSigVersion  IsBeta  RtpStateBitfield  \\\n",
       "0      4.18.1807.18075  1.273.1735.0       0               7.0   \n",
       "1         4.13.17134.1    1.263.48.0       0               7.0   \n",
       "2      4.18.1807.18075  1.273.1341.0       0               7.0   \n",
       "3      4.18.1807.18075  1.273.1527.0       0               7.0   \n",
       "4      4.18.1807.18075  1.273.1379.0       0               7.0   \n",
       "...                ...           ...     ...               ...   \n",
       "56751  4.18.1807.18075  1.273.1056.0       0               7.0   \n",
       "56752  4.18.1807.18075   1.273.689.0       0               7.0   \n",
       "56753  4.18.1807.18075  1.275.1454.0       0               7.0   \n",
       "56754  4.18.1807.18075  1.273.1527.0       0               7.0   \n",
       "56755  4.18.1807.18075  1.275.1573.0       0               7.0   \n",
       "\n",
       "       IsSxsPassiveMode  DefaultBrowsersIdentifier  AVProductStatesIdentifier  \\\n",
       "0                     0                        NaN                    53447.0   \n",
       "1                     0                        NaN                    53447.0   \n",
       "2                     0                        NaN                    53447.0   \n",
       "3                     0                        NaN                    53447.0   \n",
       "4                     0                        NaN                    53447.0   \n",
       "...                 ...                        ...                        ...   \n",
       "56751                 0                        NaN                    53447.0   \n",
       "56752                 0                        NaN                    41571.0   \n",
       "56753                 0                        NaN                    53447.0   \n",
       "56754                 0                        NaN                    43856.0   \n",
       "56755                 0                        NaN                    53447.0   \n",
       "\n",
       "       ...  Census_FirmwareVersionIdentifier  Census_IsSecureBootEnabled  \\\n",
       "0      ...                           36144.0                           0   \n",
       "1      ...                           57858.0                           0   \n",
       "2      ...                           52682.0                           0   \n",
       "3      ...                           20050.0                           0   \n",
       "4      ...                           19844.0                           0   \n",
       "...    ...                               ...                         ...   \n",
       "56751  ...                           63568.0                           1   \n",
       "56752  ...                           33211.0                           1   \n",
       "56753  ...                           44032.0                           0   \n",
       "56754  ...                           60903.0                           0   \n",
       "56755  ...                           63370.0                           0   \n",
       "\n",
       "       Census_IsWIMBootEnabled  Census_IsVirtualDevice  Census_IsTouchEnabled  \\\n",
       "0                          NaN                     0.0                      0   \n",
       "1                          NaN                     0.0                      0   \n",
       "2                          NaN                     0.0                      0   \n",
       "3                          NaN                     0.0                      0   \n",
       "4                          0.0                     0.0                      0   \n",
       "...                        ...                     ...                    ...   \n",
       "56751                      NaN                     0.0                      0   \n",
       "56752                      0.0                     0.0                      0   \n",
       "56753                      NaN                     0.0                      0   \n",
       "56754                      0.0                     0.0                      0   \n",
       "56755                      0.0                     0.0                      0   \n",
       "\n",
       "       Census_IsPenCapable  Census_IsAlwaysOnAlwaysConnectedCapable  \\\n",
       "0                        0                                      0.0   \n",
       "1                        0                                      0.0   \n",
       "2                        0                                      0.0   \n",
       "3                        0                                      0.0   \n",
       "4                        0                                      0.0   \n",
       "...                    ...                                      ...   \n",
       "56751                    0                                      0.0   \n",
       "56752                    0                                      0.0   \n",
       "56753                    0                                      0.0   \n",
       "56754                    0                                      0.0   \n",
       "56755                    0                                      0.0   \n",
       "\n",
       "       Wdft_IsGamer Wdft_RegionIdentifier HasDetections  \n",
       "0               0.0                  10.0             0  \n",
       "1               0.0                   8.0             0  \n",
       "2               0.0                   3.0             0  \n",
       "3               0.0                   3.0             1  \n",
       "4               0.0                   1.0             1  \n",
       "...             ...                   ...           ...  \n",
       "56751           1.0                   3.0             0  \n",
       "56752           1.0                   1.0             1  \n",
       "56753           1.0                  11.0             0  \n",
       "56754           0.0                   8.0             1  \n",
       "56755           1.0                  15.0             1  \n",
       "\n",
       "[56756 rows x 83 columns]"
      ]
     },
     "execution_count": 80,
     "metadata": {},
     "output_type": "execute_result"
    }
   ],
   "source": [
    "#importing dataframe\n",
    "\n",
    "ms_df = pd.read_csv('Microsoft_Data.csv')\n",
    "\n",
    "ms_df"
   ]
  },
  {
   "cell_type": "markdown",
   "metadata": {},
   "source": [
    "# DataPreprocessing"
   ]
  },
  {
   "cell_type": "code",
   "execution_count": 81,
   "metadata": {},
   "outputs": [
    {
     "data": {
      "text/html": [
       "<div>\n",
       "<style scoped>\n",
       "    .dataframe tbody tr th:only-of-type {\n",
       "        vertical-align: middle;\n",
       "    }\n",
       "\n",
       "    .dataframe tbody tr th {\n",
       "        vertical-align: top;\n",
       "    }\n",
       "\n",
       "    .dataframe thead th {\n",
       "        text-align: right;\n",
       "    }\n",
       "</style>\n",
       "<table border=\"1\" class=\"dataframe\">\n",
       "  <thead>\n",
       "    <tr style=\"text-align: right;\">\n",
       "      <th></th>\n",
       "      <th>Columns</th>\n",
       "      <th>Missing_val_c</th>\n",
       "      <th>Missing_val_p</th>\n",
       "    </tr>\n",
       "  </thead>\n",
       "  <tbody>\n",
       "    <tr>\n",
       "      <th>PuaMode</th>\n",
       "      <td>PuaMode</td>\n",
       "      <td>56737</td>\n",
       "      <td>99.966523</td>\n",
       "    </tr>\n",
       "    <tr>\n",
       "      <th>Census_ProcessorClass</th>\n",
       "      <td>Census_ProcessorClass</td>\n",
       "      <td>56514</td>\n",
       "      <td>99.573613</td>\n",
       "    </tr>\n",
       "    <tr>\n",
       "      <th>DefaultBrowsersIdentifier</th>\n",
       "      <td>DefaultBrowsersIdentifier</td>\n",
       "      <td>53983</td>\n",
       "      <td>95.114173</td>\n",
       "    </tr>\n",
       "    <tr>\n",
       "      <th>Census_IsFlightingInternal</th>\n",
       "      <td>Census_IsFlightingInternal</td>\n",
       "      <td>47190</td>\n",
       "      <td>83.145394</td>\n",
       "    </tr>\n",
       "    <tr>\n",
       "      <th>Census_InternalBatteryType</th>\n",
       "      <td>Census_InternalBatteryType</td>\n",
       "      <td>40429</td>\n",
       "      <td>71.232997</td>\n",
       "    </tr>\n",
       "    <tr>\n",
       "      <th>...</th>\n",
       "      <td>...</td>\n",
       "      <td>...</td>\n",
       "      <td>...</td>\n",
       "    </tr>\n",
       "    <tr>\n",
       "      <th>ProductName</th>\n",
       "      <td>ProductName</td>\n",
       "      <td>0</td>\n",
       "      <td>0.000000</td>\n",
       "    </tr>\n",
       "    <tr>\n",
       "      <th>Census_HasOpticalDiskDrive</th>\n",
       "      <td>Census_HasOpticalDiskDrive</td>\n",
       "      <td>0</td>\n",
       "      <td>0.000000</td>\n",
       "    </tr>\n",
       "    <tr>\n",
       "      <th>Census_PowerPlatformRoleName</th>\n",
       "      <td>Census_PowerPlatformRoleName</td>\n",
       "      <td>0</td>\n",
       "      <td>0.000000</td>\n",
       "    </tr>\n",
       "    <tr>\n",
       "      <th>Census_OSVersion</th>\n",
       "      <td>Census_OSVersion</td>\n",
       "      <td>0</td>\n",
       "      <td>0.000000</td>\n",
       "    </tr>\n",
       "    <tr>\n",
       "      <th>HasDetections</th>\n",
       "      <td>HasDetections</td>\n",
       "      <td>0</td>\n",
       "      <td>0.000000</td>\n",
       "    </tr>\n",
       "  </tbody>\n",
       "</table>\n",
       "<p>83 rows × 3 columns</p>\n",
       "</div>"
      ],
      "text/plain": [
       "                                                   Columns  Missing_val_c  \\\n",
       "PuaMode                                            PuaMode          56737   \n",
       "Census_ProcessorClass                Census_ProcessorClass          56514   \n",
       "DefaultBrowsersIdentifier        DefaultBrowsersIdentifier          53983   \n",
       "Census_IsFlightingInternal      Census_IsFlightingInternal          47190   \n",
       "Census_InternalBatteryType      Census_InternalBatteryType          40429   \n",
       "...                                                    ...            ...   \n",
       "ProductName                                    ProductName              0   \n",
       "Census_HasOpticalDiskDrive      Census_HasOpticalDiskDrive              0   \n",
       "Census_PowerPlatformRoleName  Census_PowerPlatformRoleName              0   \n",
       "Census_OSVersion                          Census_OSVersion              0   \n",
       "HasDetections                                HasDetections              0   \n",
       "\n",
       "                              Missing_val_p  \n",
       "PuaMode                           99.966523  \n",
       "Census_ProcessorClass             99.573613  \n",
       "DefaultBrowsersIdentifier         95.114173  \n",
       "Census_IsFlightingInternal        83.145394  \n",
       "Census_InternalBatteryType        71.232997  \n",
       "...                                     ...  \n",
       "ProductName                        0.000000  \n",
       "Census_HasOpticalDiskDrive         0.000000  \n",
       "Census_PowerPlatformRoleName       0.000000  \n",
       "Census_OSVersion                   0.000000  \n",
       "HasDetections                      0.000000  \n",
       "\n",
       "[83 rows x 3 columns]"
      ]
     },
     "execution_count": 81,
     "metadata": {},
     "output_type": "execute_result"
    }
   ],
   "source": [
    "#missing value dataframe\n",
    "\n",
    "na_df = pd.DataFrame({'Columns':ms_df.columns,\n",
    "                     'Missing_val_c':ms_df.isnull().sum(),\n",
    "                     'Missing_val_p':100*(ms_df.isnull().sum()/ms_df.shape[0])})\n",
    "\n",
    "na_df.sort_values(by = 'Missing_val_p', ascending = False)"
   ]
  },
  {
   "cell_type": "code",
   "execution_count": 82,
   "metadata": {},
   "outputs": [
    {
     "data": {
      "text/plain": [
       "['RtpStateBitfield',\n",
       " 'DefaultBrowsersIdentifier',\n",
       " 'AVProductStatesIdentifier',\n",
       " 'AVProductsInstalled',\n",
       " 'AVProductsEnabled',\n",
       " 'CityIdentifier',\n",
       " 'OrganizationIdentifier',\n",
       " 'GeoNameIdentifier',\n",
       " 'IsProtected',\n",
       " 'PuaMode',\n",
       " 'SMode',\n",
       " 'IeVerIdentifier',\n",
       " 'SmartScreen',\n",
       " 'Firewall',\n",
       " 'UacLuaenable',\n",
       " 'Census_OEMNameIdentifier',\n",
       " 'Census_OEMModelIdentifier',\n",
       " 'Census_ProcessorCoreCount',\n",
       " 'Census_ProcessorManufacturerIdentifier',\n",
       " 'Census_ProcessorModelIdentifier',\n",
       " 'Census_ProcessorClass',\n",
       " 'Census_PrimaryDiskTotalCapacity',\n",
       " 'Census_PrimaryDiskTypeName',\n",
       " 'Census_SystemVolumeTotalCapacity',\n",
       " 'Census_TotalPhysicalRAM',\n",
       " 'Census_ChassisTypeName',\n",
       " 'Census_InternalPrimaryDiagonalDisplaySizeInInches',\n",
       " 'Census_InternalPrimaryDisplayResolutionHorizontal',\n",
       " 'Census_InternalPrimaryDisplayResolutionVertical',\n",
       " 'Census_InternalBatteryType',\n",
       " 'Census_InternalBatteryNumberOfCharges',\n",
       " 'Census_OSInstallLanguageIdentifier',\n",
       " 'Census_IsFlightingInternal',\n",
       " 'Census_IsFlightsDisabled',\n",
       " 'Census_ThresholdOptIn',\n",
       " 'Census_FirmwareManufacturerIdentifier',\n",
       " 'Census_FirmwareVersionIdentifier',\n",
       " 'Census_IsWIMBootEnabled',\n",
       " 'Census_IsVirtualDevice',\n",
       " 'Census_IsAlwaysOnAlwaysConnectedCapable',\n",
       " 'Wdft_IsGamer',\n",
       " 'Wdft_RegionIdentifier']"
      ]
     },
     "execution_count": 82,
     "metadata": {},
     "output_type": "execute_result"
    }
   ],
   "source": [
    "list(na_df[na_df['Missing_val_p']>0].index)"
   ]
  },
  {
   "cell_type": "code",
   "execution_count": 83,
   "metadata": {},
   "outputs": [
    {
     "data": {
      "text/plain": [
       "['DefaultBrowsersIdentifier',\n",
       " 'PuaMode',\n",
       " 'Census_ProcessorClass',\n",
       " 'Census_InternalBatteryType',\n",
       " 'Census_IsFlightingInternal',\n",
       " 'Census_ThresholdOptIn',\n",
       " 'Census_IsWIMBootEnabled',\n",
       " 'MachineIdentifier',\n",
       " 'IsBeta',\n",
       " 'AutoSampleOptIn']"
      ]
     },
     "execution_count": 83,
     "metadata": {},
     "output_type": "execute_result"
    }
   ],
   "source": [
    "cols_to_drop = list(na_df[na_df['Missing_val_p']>50].index)\n",
    "\n",
    "for col in ms_df.columns:\n",
    "    if len(ms_df[col].unique())== 1 or len(ms_df[col].unique())== ms_df.shape[0]:\n",
    "        cols_to_drop.append(col)\n",
    "        \n",
    "        \n",
    "cols_to_drop"
   ]
  },
  {
   "cell_type": "code",
   "execution_count": 84,
   "metadata": {
    "scrolled": true
   },
   "outputs": [
    {
     "data": {
      "text/plain": [
       "(56756, 73)"
      ]
     },
     "execution_count": 84,
     "metadata": {},
     "output_type": "execute_result"
    }
   ],
   "source": [
    "#Dropping Unnecessary columns\n",
    "\n",
    "ms_df.drop(columns = cols_to_drop, inplace = True)\n",
    "\n",
    "ms_df.shape"
   ]
  },
  {
   "cell_type": "code",
   "execution_count": 85,
   "metadata": {},
   "outputs": [],
   "source": [
    "#Seperating continuous and categorical columns\n",
    "\n",
    "con_cols = [col for col in ms_df.columns if ms_df[col].dtype == 'int64' or ms_df[col].dtype == 'float64']\n",
    "\n",
    "cat_cols = [col for col in ms_df.columns if ms_df[col].dtype == 'object']"
   ]
  },
  {
   "cell_type": "code",
   "execution_count": 86,
   "metadata": {},
   "outputs": [
    {
     "data": {
      "text/html": [
       "<div>\n",
       "<style scoped>\n",
       "    .dataframe tbody tr th:only-of-type {\n",
       "        vertical-align: middle;\n",
       "    }\n",
       "\n",
       "    .dataframe tbody tr th {\n",
       "        vertical-align: top;\n",
       "    }\n",
       "\n",
       "    .dataframe thead th {\n",
       "        text-align: right;\n",
       "    }\n",
       "</style>\n",
       "<table border=\"1\" class=\"dataframe\">\n",
       "  <thead>\n",
       "    <tr style=\"text-align: right;\">\n",
       "      <th></th>\n",
       "      <th>Columns</th>\n",
       "      <th>p_values</th>\n",
       "    </tr>\n",
       "  </thead>\n",
       "  <tbody>\n",
       "    <tr>\n",
       "      <th>0</th>\n",
       "      <td>ProductName</td>\n",
       "      <td>6.701547e-01</td>\n",
       "    </tr>\n",
       "    <tr>\n",
       "      <th>1</th>\n",
       "      <td>EngineVersion</td>\n",
       "      <td>5.240161e-175</td>\n",
       "    </tr>\n",
       "    <tr>\n",
       "      <th>2</th>\n",
       "      <td>AppVersion</td>\n",
       "      <td>2.679675e-100</td>\n",
       "    </tr>\n",
       "    <tr>\n",
       "      <th>3</th>\n",
       "      <td>AvSigVersion</td>\n",
       "      <td>6.692324e-30</td>\n",
       "    </tr>\n",
       "    <tr>\n",
       "      <th>4</th>\n",
       "      <td>Platform</td>\n",
       "      <td>1.531325e-02</td>\n",
       "    </tr>\n",
       "    <tr>\n",
       "      <th>5</th>\n",
       "      <td>Processor</td>\n",
       "      <td>2.159546e-70</td>\n",
       "    </tr>\n",
       "    <tr>\n",
       "      <th>6</th>\n",
       "      <td>OsVer</td>\n",
       "      <td>5.191060e-01</td>\n",
       "    </tr>\n",
       "    <tr>\n",
       "      <th>7</th>\n",
       "      <td>OsPlatformSubRelease</td>\n",
       "      <td>2.146644e-23</td>\n",
       "    </tr>\n",
       "    <tr>\n",
       "      <th>8</th>\n",
       "      <td>OsBuildLab</td>\n",
       "      <td>1.264234e-44</td>\n",
       "    </tr>\n",
       "    <tr>\n",
       "      <th>9</th>\n",
       "      <td>SkuEdition</td>\n",
       "      <td>3.911500e-06</td>\n",
       "    </tr>\n",
       "    <tr>\n",
       "      <th>10</th>\n",
       "      <td>SmartScreen</td>\n",
       "      <td>0.000000e+00</td>\n",
       "    </tr>\n",
       "    <tr>\n",
       "      <th>11</th>\n",
       "      <td>Census_MDC2FormFactor</td>\n",
       "      <td>1.226526e-55</td>\n",
       "    </tr>\n",
       "    <tr>\n",
       "      <th>12</th>\n",
       "      <td>Census_DeviceFamily</td>\n",
       "      <td>2.054026e-03</td>\n",
       "    </tr>\n",
       "    <tr>\n",
       "      <th>13</th>\n",
       "      <td>Census_PrimaryDiskTypeName</td>\n",
       "      <td>2.541452e-13</td>\n",
       "    </tr>\n",
       "    <tr>\n",
       "      <th>14</th>\n",
       "      <td>Census_ChassisTypeName</td>\n",
       "      <td>1.640480e-49</td>\n",
       "    </tr>\n",
       "    <tr>\n",
       "      <th>15</th>\n",
       "      <td>Census_PowerPlatformRoleName</td>\n",
       "      <td>3.485656e-52</td>\n",
       "    </tr>\n",
       "    <tr>\n",
       "      <th>16</th>\n",
       "      <td>Census_OSVersion</td>\n",
       "      <td>1.256128e-33</td>\n",
       "    </tr>\n",
       "    <tr>\n",
       "      <th>17</th>\n",
       "      <td>Census_OSArchitecture</td>\n",
       "      <td>3.975420e-71</td>\n",
       "    </tr>\n",
       "    <tr>\n",
       "      <th>18</th>\n",
       "      <td>Census_OSBranch</td>\n",
       "      <td>1.607312e-37</td>\n",
       "    </tr>\n",
       "    <tr>\n",
       "      <th>19</th>\n",
       "      <td>Census_OSEdition</td>\n",
       "      <td>2.917532e-36</td>\n",
       "    </tr>\n",
       "    <tr>\n",
       "      <th>20</th>\n",
       "      <td>Census_OSSkuName</td>\n",
       "      <td>7.997531e-37</td>\n",
       "    </tr>\n",
       "    <tr>\n",
       "      <th>21</th>\n",
       "      <td>Census_OSInstallTypeName</td>\n",
       "      <td>1.018901e-23</td>\n",
       "    </tr>\n",
       "    <tr>\n",
       "      <th>22</th>\n",
       "      <td>Census_OSWUAutoUpdateOptionsName</td>\n",
       "      <td>1.077721e-14</td>\n",
       "    </tr>\n",
       "    <tr>\n",
       "      <th>23</th>\n",
       "      <td>Census_GenuineStateName</td>\n",
       "      <td>1.883395e-05</td>\n",
       "    </tr>\n",
       "    <tr>\n",
       "      <th>24</th>\n",
       "      <td>Census_ActivationChannel</td>\n",
       "      <td>5.747724e-25</td>\n",
       "    </tr>\n",
       "    <tr>\n",
       "      <th>25</th>\n",
       "      <td>Census_FlightRing</td>\n",
       "      <td>2.174158e-01</td>\n",
       "    </tr>\n",
       "  </tbody>\n",
       "</table>\n",
       "</div>"
      ],
      "text/plain": [
       "                             Columns       p_values\n",
       "0                        ProductName   6.701547e-01\n",
       "1                      EngineVersion  5.240161e-175\n",
       "2                         AppVersion  2.679675e-100\n",
       "3                       AvSigVersion   6.692324e-30\n",
       "4                           Platform   1.531325e-02\n",
       "5                          Processor   2.159546e-70\n",
       "6                              OsVer   5.191060e-01\n",
       "7               OsPlatformSubRelease   2.146644e-23\n",
       "8                         OsBuildLab   1.264234e-44\n",
       "9                         SkuEdition   3.911500e-06\n",
       "10                       SmartScreen   0.000000e+00\n",
       "11             Census_MDC2FormFactor   1.226526e-55\n",
       "12               Census_DeviceFamily   2.054026e-03\n",
       "13        Census_PrimaryDiskTypeName   2.541452e-13\n",
       "14            Census_ChassisTypeName   1.640480e-49\n",
       "15      Census_PowerPlatformRoleName   3.485656e-52\n",
       "16                  Census_OSVersion   1.256128e-33\n",
       "17             Census_OSArchitecture   3.975420e-71\n",
       "18                   Census_OSBranch   1.607312e-37\n",
       "19                  Census_OSEdition   2.917532e-36\n",
       "20                  Census_OSSkuName   7.997531e-37\n",
       "21          Census_OSInstallTypeName   1.018901e-23\n",
       "22  Census_OSWUAutoUpdateOptionsName   1.077721e-14\n",
       "23           Census_GenuineStateName   1.883395e-05\n",
       "24          Census_ActivationChannel   5.747724e-25\n",
       "25                 Census_FlightRing   2.174158e-01"
      ]
     },
     "execution_count": 86,
     "metadata": {},
     "output_type": "execute_result"
    }
   ],
   "source": [
    "#Checking correlation of all input variables with the output variable\n",
    "\n",
    "y = ms_df['HasDetections']  #Assigning output column to variable Y\n",
    "\n",
    "from scipy.stats import chi2_contingency, f_oneway\n",
    "\n",
    "p_values = []\n",
    "\n",
    "for col in cat_cols:\n",
    "    contingency_table = pd.crosstab(ms_df[col],y)\n",
    "    result = chi2_contingency(contingency_table)\n",
    "    p_values.append(result[1])\n",
    "    \n",
    "catcols_pval_df = pd.DataFrame({'Columns': cat_cols,'p_values': p_values})\n",
    "\n",
    "catcols_pval_df\n"
   ]
  },
  {
   "cell_type": "code",
   "execution_count": 87,
   "metadata": {},
   "outputs": [],
   "source": [
    "uncorr_cols = list(catcols_pval_df[catcols_pval_df['p_values']>0.05]['Columns'])"
   ]
  },
  {
   "cell_type": "code",
   "execution_count": 88,
   "metadata": {},
   "outputs": [],
   "source": [
    "#Dropping Uncorrelated columns\n",
    "\n",
    "ms_df.drop(columns = uncorr_cols, inplace = True)\n",
    "\n",
    "ms_df.drop(columns = 'HasDetections', inplace = True)"
   ]
  },
  {
   "cell_type": "code",
   "execution_count": 89,
   "metadata": {},
   "outputs": [
    {
     "data": {
      "text/plain": [
       "(56756, 69)"
      ]
     },
     "execution_count": 89,
     "metadata": {},
     "output_type": "execute_result"
    }
   ],
   "source": [
    "ms_df.shape"
   ]
  },
  {
   "cell_type": "markdown",
   "metadata": {},
   "source": [
    "# Train Test Split"
   ]
  },
  {
   "cell_type": "code",
   "execution_count": 90,
   "metadata": {},
   "outputs": [],
   "source": [
    "from sklearn.model_selection import train_test_split\n",
    "\n",
    "x_train,x_test,y_train,y_test =  train_test_split(ms_df, y, test_size = 0.2, random_state = 30)"
   ]
  },
  {
   "cell_type": "code",
   "execution_count": 91,
   "metadata": {},
   "outputs": [],
   "source": [
    "#Updating con_cols and cat_cols list\n",
    "\n",
    "con_cols.remove('HasDetections')\n",
    "\n",
    "cat_cols.remove('ProductName')\n",
    "\n",
    "cat_cols.remove('OsVer')\n",
    "\n",
    "cat_cols.remove('Census_FlightRing')"
   ]
  },
  {
   "cell_type": "code",
   "execution_count": 92,
   "metadata": {},
   "outputs": [],
   "source": [
    "#Filling Missing Values:\n",
    "\n",
    "\n",
    "for col in con_cols:\n",
    "    x_train[col] = x_train[col].fillna(x_train[col].mean())\n",
    "    x_test[col] = x_test[col].fillna(x_train[col].mean())\n",
    "    \n",
    "for col in cat_cols:\n",
    "    x_train[col] = x_train[col].fillna(x_train[col].mode())\n",
    "    x_test[col] = x_test[col].fillna(x_train[col].mode())"
   ]
  },
  {
   "cell_type": "markdown",
   "metadata": {},
   "source": [
    "# Scaling Continuous Variables"
   ]
  },
  {
   "cell_type": "code",
   "execution_count": 93,
   "metadata": {},
   "outputs": [],
   "source": [
    "from sklearn.preprocessing import MinMaxScaler, StandardScaler\n",
    "\n",
    "std_scaler = StandardScaler()\n",
    "\n",
    "for col in con_cols:\n",
    "    x_train[col] = std_scaler.fit_transform(np.array(x_train[col]).reshape(-1,1))\n",
    "    x_test[col] = std_scaler.transform(np.array(x_test[col]).reshape(-1,1))"
   ]
  },
  {
   "cell_type": "markdown",
   "metadata": {},
   "source": [
    "# One Hot Encoding"
   ]
  },
  {
   "cell_type": "code",
   "execution_count": 94,
   "metadata": {},
   "outputs": [],
   "source": [
    "oe_train_df = pd.get_dummies(x_train)\n",
    "\n",
    "oe_test_df = pd.get_dummies(x_test)"
   ]
  },
  {
   "cell_type": "code",
   "execution_count": 95,
   "metadata": {},
   "outputs": [],
   "source": [
    "#Aligning train and test data so that they have similar columns\n",
    "\n",
    "x_train_oe,x_test_oe = oe_train_df.align(oe_test_df, join='inner', axis = 1, fill_value = 0)"
   ]
  },
  {
   "cell_type": "code",
   "execution_count": 96,
   "metadata": {},
   "outputs": [],
   "source": [
    "#Adding both continuous and Categorical columns together\n",
    "\n",
    "x_train_final = pd.concat([x_train_oe,x_train[con_cols]], axis = 1)\n",
    "x_test_final = pd.concat([x_test_oe, x_test[con_cols]], axis = 1)"
   ]
  },
  {
   "cell_type": "markdown",
   "metadata": {},
   "source": [
    "# Logistic Regression"
   ]
  },
  {
   "cell_type": "code",
   "execution_count": 97,
   "metadata": {},
   "outputs": [
    {
     "data": {
      "text/plain": [
       "array([1, 0, 1, ..., 1, 1, 1], dtype=int64)"
      ]
     },
     "execution_count": 97,
     "metadata": {},
     "output_type": "execute_result"
    }
   ],
   "source": [
    "from sklearn.linear_model import LogisticRegression\n",
    "\n",
    "logreg = LogisticRegression(penalty='l2')\n",
    "\n",
    "logreg.fit(x_train_final,y_train)\n",
    "\n",
    "logreg_predictions = logreg.predict(x_test_final)\n",
    "\n",
    "logreg_predictions"
   ]
  },
  {
   "cell_type": "code",
   "execution_count": 98,
   "metadata": {},
   "outputs": [
    {
     "data": {
      "text/plain": [
       "array([[3553, 2168],\n",
       "       [2077, 3554]], dtype=int64)"
      ]
     },
     "execution_count": 98,
     "metadata": {},
     "output_type": "execute_result"
    }
   ],
   "source": [
    "from sklearn.metrics import confusion_matrix, f1_score, precision_score, recall_score,roc_auc_score,roc_curve\n",
    "\n",
    "confusion_matrix(y_test,logreg_predictions)"
   ]
  },
  {
   "cell_type": "code",
   "execution_count": 99,
   "metadata": {},
   "outputs": [
    {
     "name": "stdout",
     "output_type": "stream",
     "text": [
      "Precision Score: 0.6211114994757078\n",
      "Recall Score: 0.6311489966258214\n",
      "f1 score: 0.6260900202589623\n"
     ]
    }
   ],
   "source": [
    "print('Precision Score:', precision_score(y_test,logreg_predictions))\n",
    "\n",
    "print('Recall Score:', recall_score(y_test,logreg_predictions))\n",
    "\n",
    "print('f1 score:', f1_score(y_test,logreg_predictions))"
   ]
  },
  {
   "cell_type": "code",
   "execution_count": 100,
   "metadata": {},
   "outputs": [
    {
     "data": {
      "text/plain": [
       "array([[0.29867144, 0.70132856],\n",
       "       [0.66377188, 0.33622812],\n",
       "       [0.44548117, 0.55451883],\n",
       "       ...,\n",
       "       [0.32072656, 0.67927344],\n",
       "       [0.09562084, 0.90437916],\n",
       "       [0.38629809, 0.61370191]])"
      ]
     },
     "execution_count": 100,
     "metadata": {},
     "output_type": "execute_result"
    }
   ],
   "source": [
    "logreg.predict_proba(x_test_final)"
   ]
  },
  {
   "cell_type": "code",
   "execution_count": 101,
   "metadata": {},
   "outputs": [
    {
     "data": {
      "text/plain": [
       "0.6260971342157249"
      ]
     },
     "execution_count": 101,
     "metadata": {},
     "output_type": "execute_result"
    }
   ],
   "source": [
    "roc_auc_score(y_test,logreg_predictions)"
   ]
  },
  {
   "cell_type": "code",
   "execution_count": 102,
   "metadata": {},
   "outputs": [
    {
     "data": {
      "text/plain": [
       "Text(0, 0.5, 'True Posotive Rate')"
      ]
     },
     "execution_count": 102,
     "metadata": {},
     "output_type": "execute_result"
    },
    {
     "data": {
      "image/png": "[encoded data removed]",
      "text/plain": [
       "<Figure size 432x288 with 1 Axes>"
      ]
     },
     "metadata": {
      "needs_background": "light"
     },
     "output_type": "display_data"
    }
   ],
   "source": [
    "y_probab = logreg.predict_proba(x_test_final)[::,1]\n",
    "\n",
    "fpr,tpr,tresholds = roc_curve(y_test,y_probab)\n",
    "\n",
    "plt.plot(fpr,tpr)\n",
    "plt.xlabel('False Positive Rate')\n",
    "plt.ylabel('True Posotive Rate')"
   ]
  },
  {
   "cell_type": "markdown",
   "metadata": {},
   "source": [
    "# Decision Tree Classifier"
   ]
  },
  {
   "cell_type": "code",
   "execution_count": 103,
   "metadata": {},
   "outputs": [
    {
     "name": "stdout",
     "output_type": "stream",
     "text": [
      "Train Accuracy: 1.0\n",
      "Test Accuracy: 0.57038407329105\n"
     ]
    }
   ],
   "source": [
    "from sklearn.tree import DecisionTreeClassifier\n",
    "\n",
    "dtc = DecisionTreeClassifier(random_state=40)\n",
    "\n",
    "dtc.fit(x_train_final,y_train)\n",
    "\n",
    "dtc_predictions = dtc.predict(x_test_final)\n",
    "\n",
    "print('Train Accuracy:', dtc.score(x_train_final,y_train))\n",
    "\n",
    "print('Test Accuracy:', dtc.score(x_test_final,y_test))"
   ]
  },
  {
   "cell_type": "code",
   "execution_count": 104,
   "metadata": {},
   "outputs": [
    {
     "name": "stdout",
     "output_type": "stream",
     "text": [
      "Precision Score: 0.5660245183887916\n",
      "Recall Score: 0.5739655478600604\n",
      "f1 score: 0.5699673750110219\n"
     ]
    }
   ],
   "source": [
    "print('Precision Score:', precision_score(y_test,dtc_predictions))\n",
    "\n",
    "print('Recall Score:', recall_score(y_test,dtc_predictions))\n",
    "\n",
    "print('f1 score:', f1_score(y_test,dtc_predictions))"
   ]
  },
  {
   "cell_type": "markdown",
   "metadata": {},
   "source": [
    "# Hyperparameter Tuning on DTC"
   ]
  },
  {
   "cell_type": "code",
   "execution_count": 105,
   "metadata": {},
   "outputs": [
    {
     "name": "stdout",
     "output_type": "stream",
     "text": [
      "{'max_depth': 10, 'max_features': 'sqrt', 'max_leaf_nodes': 28, 'min_samples_split': 15}\n",
      "0.567593023532214\n"
     ]
    }
   ],
   "source": [
    "from sklearn.model_selection import GridSearchCV\n",
    "\n",
    "hyp_dict_dtc = {'max_depth':[9,10,12],\n",
    "               'min_samples_split': [10,15,20],\n",
    "               'max_leaf_nodes':[15,22,28],\n",
    "               'max_features': ['sqrt','log2']}\n",
    "\n",
    "\n",
    "gcv_dtc = GridSearchCV(estimator=dtc, param_grid=hyp_dict_dtc, cv = 5)\n",
    "\n",
    "gcv_dtc.fit(x_train_final,y_train)\n",
    "\n",
    "print(gcv_dtc.best_params_)\n",
    "\n",
    "print(gcv_dtc.best_score_)\n",
    "\n",
    "gcv_dtc_predictions = gcv_dtc.predict(x_test_final)\n"
   ]
  },
  {
   "cell_type": "code",
   "execution_count": 106,
   "metadata": {},
   "outputs": [
    {
     "name": "stdout",
     "output_type": "stream",
     "text": [
      "Precision Score: 0.5368932038834952\n",
      "Recall Score: 0.7856508613034985\n",
      "f1 score: 0.6378775863311945\n"
     ]
    }
   ],
   "source": [
    "print('Precision Score:', precision_score(y_test,gcv_dtc_predictions))\n",
    "\n",
    "print('Recall Score:', recall_score(y_test,gcv_dtc_predictions))\n",
    "\n",
    "print('f1 score:', f1_score(y_test,gcv_dtc_predictions))"
   ]
  },
  {
   "cell_type": "markdown",
   "metadata": {},
   "source": [
    "# Random Forest Classifier"
   ]
  },
  {
   "cell_type": "code",
   "execution_count": 107,
   "metadata": {},
   "outputs": [
    {
     "name": "stdout",
     "output_type": "stream",
     "text": [
      "Train Accuracy: 1.0\n",
      "Test Accuracy: 0.6211240310077519\n"
     ]
    }
   ],
   "source": [
    "from sklearn.ensemble import RandomForestClassifier\n",
    "\n",
    "rfc = RandomForestClassifier(random_state= 40)\n",
    "\n",
    "rfc.fit(x_train_final,y_train)\n",
    "\n",
    "rfc_predictions = rfc.predict(x_test_final)\n",
    "\n",
    "print('Train Accuracy:', rfc.score(x_train_final,y_train))\n",
    "\n",
    "print('Test Accuracy:', rfc.score(x_test_final,y_test))"
   ]
  },
  {
   "cell_type": "code",
   "execution_count": 108,
   "metadata": {},
   "outputs": [
    {
     "name": "stdout",
     "output_type": "stream",
     "text": [
      "Precision Score: 0.6175326970661011\n",
      "Recall Score: 0.6204936956135677\n",
      "f1 score: 0.6190096554167774\n"
     ]
    }
   ],
   "source": [
    "print('Precision Score:', precision_score(y_test,rfc_predictions))\n",
    "\n",
    "print('Recall Score:', recall_score(y_test,rfc_predictions))\n",
    "\n",
    "print('f1 score:', f1_score(y_test,rfc_predictions))"
   ]
  },
  {
   "cell_type": "markdown",
   "metadata": {},
   "source": [
    "# Hyperparameter Tuning on RFC"
   ]
  },
  {
   "cell_type": "code",
   "execution_count": 109,
   "metadata": {},
   "outputs": [
    {
     "name": "stdout",
     "output_type": "stream",
     "text": [
      "{'max_depth': 11, 'max_features': 'sqrt', 'max_leaf_nodes': 32, 'min_samples_split': 11, 'n_estimators': 125}\n",
      "0.6198793142675296\n"
     ]
    }
   ],
   "source": [
    "hyp_dict_rfc = {'n_estimators':[125,200],\n",
    "                'max_depth':[8,9,11],\n",
    "               'min_samples_split':[11,12,13],\n",
    "               'max_leaf_nodes':[30,32,14],\n",
    "               'max_features': ['sqrt','log2']}\n",
    "\n",
    "\n",
    "gcv_rfc = GridSearchCV(estimator=rfc, param_grid= hyp_dict_rfc, cv = 5)\n",
    "\n",
    "gcv_rfc.fit(x_train_final,y_train)\n",
    "\n",
    "print(gcv_rfc.best_params_)\n",
    "\n",
    "print(gcv_rfc.best_score_)\n",
    "\n",
    "gcv_rfc_predictions = gcv_rfc.predict(x_test_final)\n",
    "\n"
   ]
  },
  {
   "cell_type": "code",
   "execution_count": 110,
   "metadata": {},
   "outputs": [
    {
     "name": "stdout",
     "output_type": "stream",
     "text": [
      "Precision Score: 0.6024952621604548\n",
      "Recall Score: 0.6774995560291245\n",
      "f1 score: 0.6377998829724986\n"
     ]
    }
   ],
   "source": [
    "print('Precision Score:', precision_score(y_test,gcv_rfc_predictions))\n",
    "\n",
    "print('Recall Score:', recall_score(y_test,gcv_rfc_predictions))\n",
    "\n",
    "print('f1 score:', f1_score(y_test,gcv_rfc_predictions))"
   ]
  },
  {
   "cell_type": "markdown",
   "metadata": {},
   "source": [
    "# Adaboost Classifier"
   ]
  },
  {
   "cell_type": "code",
   "execution_count": 112,
   "metadata": {},
   "outputs": [
    {
     "name": "stdout",
     "output_type": "stream",
     "text": [
      "Train Accuracy: 0.6333142454409303\n",
      "Test Accuracy: 0.6291402396053559\n"
     ]
    }
   ],
   "source": [
    "from sklearn.ensemble import AdaBoostClassifier\n",
    "\n",
    "adb = AdaBoostClassifier()\n",
    "\n",
    "adb.fit(x_train_final,y_train)\n",
    "\n",
    "adb_predictions = adb.predict(x_test_final)\n",
    "\n",
    "print('Train Accuracy:', adb.score(x_train_final,y_train))\n",
    "\n",
    "print('Test Accuracy:', adb.score(x_test_final, y_test))"
   ]
  },
  {
   "cell_type": "code",
   "execution_count": 113,
   "metadata": {},
   "outputs": [
    {
     "name": "stdout",
     "output_type": "stream",
     "text": [
      "Precision Score: 0.6204441430750974\n",
      "Recall Score: 0.6499733617474693\n",
      "f1 score: 0.634865568083261\n"
     ]
    }
   ],
   "source": [
    "print('Precision Score:', precision_score(y_test,adb_predictions))\n",
    "\n",
    "print('Recall Score:', recall_score(y_test,adb_predictions))\n",
    "\n",
    "print('f1 score:', f1_score(y_test,adb_predictions))"
   ]
  },
  {
   "cell_type": "markdown",
   "metadata": {},
   "source": [
    "# Hyperparameter Tuning on Adaboost"
   ]
  },
  {
   "cell_type": "code",
   "execution_count": 114,
   "metadata": {},
   "outputs": [
    {
     "name": "stdout",
     "output_type": "stream",
     "text": [
      "{'learning_rate': 0.5, 'n_estimators': 150}\n",
      "0.6321027117588452\n"
     ]
    }
   ],
   "source": [
    "hyp_dict_adb = {'n_estimators': [125,150],\n",
    "               'learning_rate': [0.5,1]}\n",
    "\n",
    "\n",
    "gcv_adb = GridSearchCV(estimator=adb, param_grid=hyp_dict_adb, cv= 10)\n",
    "\n",
    "gcv_adb.fit(x_train_final, y_train)\n",
    "\n",
    "gcv_adb_predictions = gcv_adb.predict(x_test_final)\n",
    "\n",
    "print( gcv_adb.best_params_)\n",
    "\n",
    "print(gcv_adb.best_score_)"
   ]
  },
  {
   "cell_type": "code",
   "execution_count": 115,
   "metadata": {},
   "outputs": [
    {
     "name": "stdout",
     "output_type": "stream",
     "text": [
      "Precision Score: 0.6195926611681535\n",
      "Recall Score: 0.6537027171017581\n",
      "f1 score: 0.6361908053923263\n"
     ]
    }
   ],
   "source": [
    "print('Precision Score:', precision_score(y_test,gcv_adb_predictions))\n",
    "\n",
    "print('Recall Score:', recall_score(y_test,gcv_adb_predictions))\n",
    "\n",
    "print('f1 score:', f1_score(y_test,gcv_adb_predictions))"
   ]
  },
  {
   "cell_type": "markdown",
   "metadata": {},
   "source": [
    "# Gradient Boost Classifier"
   ]
  },
  {
   "cell_type": "code",
   "execution_count": 116,
   "metadata": {},
   "outputs": [
    {
     "name": "stdout",
     "output_type": "stream",
     "text": [
      "Train Accuracy: 0.641397233723901\n",
      "Test Accuracy: 0.6284355179704016\n"
     ]
    }
   ],
   "source": [
    "from sklearn.ensemble import GradientBoostingClassifier\n",
    "\n",
    "gbc = GradientBoostingClassifier(random_state= 50)\n",
    "\n",
    "gbc.fit(x_train_final,y_train)\n",
    "\n",
    "gbc_predictions = gbc.predict(x_test_final)\n",
    "\n",
    "print('Train Accuracy:', gbc.score(x_train_final,y_train))\n",
    "\n",
    "print('Test Accuracy:', gbc.score(x_test_final, y_test))\n"
   ]
  },
  {
   "cell_type": "code",
   "execution_count": 117,
   "metadata": {},
   "outputs": [
    {
     "name": "stdout",
     "output_type": "stream",
     "text": [
      "Precision Score: 0.6214961306964746\n",
      "Recall: 0.6418042976380749\n",
      "F1 Score: 0.6314869823519134\n"
     ]
    }
   ],
   "source": [
    "print('Precision Score:', precision_score(y_test, gbc_predictions))\n",
    "\n",
    "print('Recall:', recall_score(y_test,gbc_predictions))\n",
    "\n",
    "print('F1 Score:', f1_score(y_test,gbc_predictions))"
   ]
  },
  {
   "cell_type": "markdown",
   "metadata": {},
   "source": [
    "# HyperParameter Tuning on GBC Classifier"
   ]
  },
  {
   "cell_type": "code",
   "execution_count": 122,
   "metadata": {},
   "outputs": [
    {
     "name": "stdout",
     "output_type": "stream",
     "text": [
      "{'max_depth': 5, 'max_features': 'sqrt', 'max_leaf_nodes': 14, 'min_samples_split': 18, 'n_estimators': 200}\n",
      "0.6348779996187034\n"
     ]
    },
    {
     "data": {
      "text/plain": [
       "0.6283474277660324"
      ]
     },
     "execution_count": 122,
     "metadata": {},
     "output_type": "execute_result"
    }
   ],
   "source": [
    "hyp_dict_gbc = {'n_estimators': [150,200],\n",
    "                'max_depth':[4,5,6],\n",
    "               'min_samples_split': [18,20,26],\n",
    "               'max_leaf_nodes':[10,12,14],\n",
    "               'max_features': ['sqrt','log2']}\n",
    "\n",
    "gcv_gbc = GridSearchCV(estimator=gbc, param_grid=hyp_dict_gbc, cv= 5)\n",
    "\n",
    "gcv_gbc.fit(x_train_final,y_train)\n",
    "\n",
    "gcv_gbc_predictions = gcv_gbc.predict(x_test_final)\n",
    "\n",
    "print(gcv_gbc.best_params_)\n",
    "\n",
    "print(gcv_gbc.best_score_)\n",
    "\n",
    "gcv_gbc.score(x_test_final,y_test)"
   ]
  },
  {
   "cell_type": "code",
   "execution_count": 123,
   "metadata": {},
   "outputs": [
    {
     "name": "stdout",
     "output_type": "stream",
     "text": [
      "Precision Score: 0.6209732693625771\n",
      "Recall: 0.6435801811401172\n",
      "F1 Score: 0.6320746489927618\n"
     ]
    }
   ],
   "source": [
    "print('Precision Score:', precision_score(y_test, gcv_gbc_predictions))\n",
    "\n",
    "print('Recall:', recall_score(y_test,gcv_gbc_predictions))\n",
    "\n",
    "print('F1 Score:', f1_score(y_test,gcv_gbc_predictions))"
   ]
  },
  {
   "cell_type": "markdown",
   "metadata": {},
   "source": [
    "# Support Vector Machine Classifier"
   ]
  },
  {
   "cell_type": "code",
   "execution_count": 126,
   "metadata": {},
   "outputs": [
    {
     "name": "stdout",
     "output_type": "stream",
     "text": [
      "Train Accuracy: 0.7040128623028808\n",
      "Test Accuracy: 0.6239429175475687\n"
     ]
    }
   ],
   "source": [
    "from sklearn.svm import SVC\n",
    "\n",
    "svc = SVC()\n",
    "\n",
    "svc.fit(x_train_final,y_train)\n",
    "\n",
    "svc_preditions = svc.predict(x_test_final)\n",
    "\n",
    "print('Train Accuracy:', svc.score(x_train_final,y_train))\n",
    "\n",
    "print('Test Accuracy:', svc.score(x_test_final,y_test))"
   ]
  },
  {
   "cell_type": "code",
   "execution_count": 128,
   "metadata": {},
   "outputs": [
    {
     "name": "stdout",
     "output_type": "stream",
     "text": [
      "Precision Score: 0.6208303761533002\n",
      "Recall: 0.6213816373645888\n",
      "F1 Score: 0.6211058844412888\n"
     ]
    }
   ],
   "source": [
    "print('Precision Score:', precision_score(y_test, svc_preditions))\n",
    "\n",
    "print('Recall:', recall_score(y_test,svc_preditions))\n",
    "\n",
    "print('F1 Score:', f1_score(y_test,svc_preditions))"
   ]
  }
 ],
 "metadata": {
  "kernelspec": {
   "display_name": "Python 3",
   "language": "python",
   "name": "python3"
  },
  "language_info": {
   "codemirror_mode": {
    "name": "ipython",
    "version": 3
   },
   "file_extension": ".py",
   "mimetype": "text/x-python",
   "name": "python",
   "nbconvert_exporter": "python",
   "pygments_lexer": "ipython3",
   "version": "3.7.6"
  }
 },
 "nbformat": 4,
 "nbformat_minor": 4
}
